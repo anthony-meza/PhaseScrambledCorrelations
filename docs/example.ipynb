{
 "cells": [
  {
   "cell_type": "markdown",
   "metadata": {},
   "source": "# Example usage\n\nTo use `SpectralCorr` in a project:"
  },
  {
   "cell_type": "code",
   "execution_count": null,
   "metadata": {
    "execution": {
     "iopub.execute_input": "2025-08-28T20:55:12.213435Z",
     "iopub.status.busy": "2025-08-28T20:55:12.213224Z",
     "iopub.status.idle": "2025-08-28T20:55:13.108552Z",
     "shell.execute_reply": "2025-08-28T20:55:13.108264Z"
    }
   },
   "outputs": [],
   "source": "import SpectralCorr\nimport numpy as np\n\n# Print version\nprint(f\"SpectralCorr version: {SpectralCorr.__version__}\")\n\n# Example usage of the main functionality\n# Generate two AR(1) time series\nts1 = SpectralCorr.AR1_process(rho=0.9, sigma=1.0, y0=0.0, N=100, seed=42)\nts2 = SpectralCorr.AR1_process(rho=0.8, sigma=1.0, y0=0.0, N=100, seed=123)\n\n# Cross-correlation using Pearson method (fast)\nccf_pearson = SpectralCorr.cross_correlation(ts1, ts2, maxlags=20, method='pearson')\nprint(f\"Pearson method: {len(ccf_pearson.lag)} lags computed\")\n\n# Cross-correlation using Ebisuzaki method (robust)\nccf_ebisuzaki = SpectralCorr.cross_correlation(ts1, ts2, maxlags=20, method='ebisuzaki', n_iter=100)\nprint(f\"Ebisuzaki method: {len(ccf_ebisuzaki.lag)} lags computed\")"
  }
 ],
 "metadata": {
  "kernelspec": {
   "display_name": "Python 3",
   "language": "python",
   "name": "python3"
  },
  "language_info": {
   "codemirror_mode": {
    "name": "ipython",
    "version": 3
   },
   "file_extension": ".py",
   "mimetype": "text/x-python",
   "name": "python",
   "nbconvert_exporter": "python",
   "pygments_lexer": "ipython3",
   "version": "3.12.5"
  }
 },
 "nbformat": 4,
 "nbformat_minor": 4
}